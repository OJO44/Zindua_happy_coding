{
 "cells": [
  {
   "cell_type": "code",
   "execution_count": 4,
   "metadata": {},
   "outputs": [],
   "source": [
    "#Write a python program for a Currency Converter\n",
    "def currency ():\n",
    "    currencyamount = int(input(\"Enter currency amount to convert to KE: \"))\n",
    "    cur1 = str( input(\"Dear user Kindly enter Currency to convert to KES: Valid are USD, CAD, GBP, AUS\"))\n",
    "    rUSD = 153\n",
    "    rGBP = 186\n",
    "    rAUS = 95\n",
    "    rCAD = 102\n",
    "   \n",
    "    if cur1 == \"USD\":\n",
    "        print(currencyamount*rUSD)\n",
    "\n",
    "    elif cur1 == \"USD\":\n",
    "        print(currencyamount*rUSD)\n",
    "\n",
    "    elif cur1 == \"CAD\":\n",
    "        print(currencyamount*rCAD)\n",
    "\n",
    "    elif cur1 == \"GBP\":\n",
    "        print(currencyamount*rGBP)\n",
    "\n",
    "    elif cur1 == \"AUS\":\n",
    "        print(currencyamount*rAUS)\n",
    "\n",
    "    else:\n",
    "        print(\"invalid currency\")\n",
    "    \n",
    "    currency()\n",
    "    \n",
    "\n",
    "\n",
    "\n",
    "\n"
   ]
  },
  {
   "cell_type": "markdown",
   "metadata": {},
   "source": []
  },
  {
   "cell_type": "code",
   "execution_count": 2,
   "metadata": {},
   "outputs": [
    {
     "ename": "ValueError",
     "evalue": "could not convert string to float: ''",
     "output_type": "error",
     "traceback": [
      "\u001b[1;31m---------------------------------------------------------------------------\u001b[0m",
      "\u001b[1;31mValueError\u001b[0m                                Traceback (most recent call last)",
      "Cell \u001b[1;32mIn[2], line 1\u001b[0m\n\u001b[1;32m----> 1\u001b[0m Hours \u001b[38;5;241m=\u001b[39m \u001b[38;5;28;43mfloat\u001b[39;49m\u001b[43m(\u001b[49m\u001b[38;5;28;43minput\u001b[39;49m\u001b[43m(\u001b[49m\u001b[38;5;124;43m\"\u001b[39;49m\u001b[38;5;124;43mEnter hours: \u001b[39;49m\u001b[38;5;124;43m\"\u001b[39;49m\u001b[43m)\u001b[49m\u001b[43m)\u001b[49m\n\u001b[0;32m      2\u001b[0m Rate \u001b[38;5;241m=\u001b[39m \u001b[38;5;28mfloat\u001b[39m(\u001b[38;5;28minput\u001b[39m( \u001b[38;5;124m\"\u001b[39m\u001b[38;5;124mEnter rate:\u001b[39m\u001b[38;5;124m\"\u001b[39m))\n\u001b[0;32m      4\u001b[0m Gross_pay \u001b[38;5;241m=\u001b[39m (Hours \u001b[38;5;241m*\u001b[39m Rate)\n",
      "\u001b[1;31mValueError\u001b[0m: could not convert string to float: ''"
     ]
    }
   ],
   "source": [
    "Hours = float(input(\"Enter hours: \"))\n",
    "Rate = float(input( \"Enter rate:\"))\n",
    "\n",
    "Gross_pay = (Hours * Rate)\n",
    "print(Gross_pay)"
   ]
  }
 ],
 "metadata": {
  "kernelspec": {
   "display_name": "Python 3",
   "language": "python",
   "name": "python3"
  },
  "language_info": {
   "codemirror_mode": {
    "name": "ipython",
    "version": 3
   },
   "file_extension": ".py",
   "mimetype": "text/x-python",
   "name": "python",
   "nbconvert_exporter": "python",
   "pygments_lexer": "ipython3",
   "version": "3.12.1"
  }
 },
 "nbformat": 4,
 "nbformat_minor": 2
}
