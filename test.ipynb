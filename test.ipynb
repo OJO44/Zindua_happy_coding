{
 "cells": [
  {
   "cell_type": "code",
   "execution_count": 4,
   "metadata": {},
   "outputs": [],
   "source": [
    "#Write a python program for a Currency Converter\n",
    "def currency ():\n",
    "    currencyamount = int(input(\"Enter currency amount to convert to KE: \"))\n",
    "    cur1 = str( input(\"Dear user Kindly enter Currency to convert to KES: Valid are USD, CAD, GBP, AUS\"))\n",
    "    rUSD = 153\n",
    "    rGBP = 186\n",
    "    rAUS = 95\n",
    "    rCAD = 102\n",
    "   \n",
    "    if cur1 == \"USD\":\n",
    "        print(currencyamount*rUSD)\n",
    "\n",
    "    elif cur1 == \"USD\":\n",
    "        print(currencyamount*rUSD)\n",
    "\n",
    "    elif cur1 == \"CAD\":\n",
    "        print(currencyamount*rCAD)\n",
    "\n",
    "    elif cur1 == \"GBP\":\n",
    "        print(currencyamount*rGBP)\n",
    "\n",
    "    elif cur1 == \"AUS\":\n",
    "        print(currencyamount*rAUS)\n",
    "\n",
    "    else:\n",
    "        print(\"invalid currency\")\n",
    "    \n",
    "    currency()\n",
    "    \n",
    "\n",
    "\n",
    "\n",
    "\n"
   ]
  },
  {
   "cell_type": "markdown",
   "metadata": {},
   "source": [
    "x = 5\n",
    "if x >= 5 and < 10:\n",
    "    print(\"within range\")\n",
    "elif < 5:\n",
    "    print(\"smaller\")\n",
    "else:\n",
    "    print(\"not in the category\")\n",
    "\n",
    "\n",
    "print(x)"
   ]
  },
  {
   "cell_type": "code",
   "execution_count": 5,
   "metadata": {},
   "outputs": [
    {
     "name": "stdout",
     "output_type": "stream",
     "text": [
      "not in the category\n",
      "5\n"
     ]
    }
   ],
   "source": [
    "within =int(input(\"enter value: \"))\n",
    "if x >=10:\n",
    "     print(\"larger\")\n",
    "elif x < 5:\n",
    "    print(\"smaller\")\n",
    "else:\n",
    "    print(\"not in the category\")\n",
    "\n",
    "print(x)"
   ]
  },
  {
   "cell_type": "code",
   "execution_count": 1,
   "metadata": {},
   "outputs": [
    {
     "name": "stdout",
     "output_type": "stream",
     "text": [
      "within range\n",
      "5\n"
     ]
    }
   ],
   "source": [
    "x = 5\n",
    "if x >= 5 and x  < 10:\n",
    "    print(\"within range\")\n",
    "elif x < 5:\n",
    "    print(\"smaller\")\n",
    "else:\n",
    "    print(\"not in the category\")\n",
    "\n",
    "print(x)"
   ]
  }
 ],
 "metadata": {
  "kernelspec": {
   "display_name": "Python 3",
   "language": "python",
   "name": "python3"
  },
  "language_info": {
   "codemirror_mode": {
    "name": "ipython",
    "version": 3
   },
   "file_extension": ".py",
   "mimetype": "text/x-python",
   "name": "python",
   "nbconvert_exporter": "python",
   "pygments_lexer": "ipython3",
   "version": "3.12.1"
  }
 },
 "nbformat": 4,
 "nbformat_minor": 2
}
