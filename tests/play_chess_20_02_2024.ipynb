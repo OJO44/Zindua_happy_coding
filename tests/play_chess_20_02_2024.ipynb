{
 "cells": [
  {
   "cell_type": "code",
   "execution_count": 1,
   "metadata": {},
   "outputs": [
    {
     "ename": "NameError",
     "evalue": "name 'imput' is not defined",
     "output_type": "error",
     "traceback": [
      "\u001b[1;31m---------------------------------------------------------------------------\u001b[0m",
      "\u001b[1;31mNameError\u001b[0m                                 Traceback (most recent call last)",
      "Cell \u001b[1;32mIn[1], line 7\u001b[0m\n\u001b[0;32m      1\u001b[0m \u001b[38;5;124;03m\"\"\" \u001b[39;00m\n\u001b[0;32m      2\u001b[0m \u001b[38;5;124;03m    Proble : Design a chess play for machine and APerson\u001b[39;00m\n\u001b[0;32m      3\u001b[0m \u001b[38;5;124;03m    Approach : Get the individual status and compare.\u001b[39;00m\n\u001b[0;32m      4\u001b[0m \u001b[38;5;124;03m    \u001b[39;00m\n\u001b[0;32m      5\u001b[0m \u001b[38;5;124;03m    annot  : Person - x - Person\u001b[39;00m\n\u001b[0;32m      6\u001b[0m \u001b[38;5;124;03m                        y - Machine\"\"\"\u001b[39;00m\n\u001b[1;32m----> 7\u001b[0m x_status \u001b[38;5;241m=\u001b[39m \u001b[43mimput\u001b[49m(\u001b[38;5;124m\"\u001b[39m\u001b[38;5;124mEnter your status\u001b[39m\u001b[38;5;124m\"\u001b[39m)\n\u001b[0;32m      8\u001b[0m y_status \u001b[38;5;241m=\u001b[39m random([\u001b[38;5;124m'\u001b[39m\u001b[38;5;124mPaper\u001b[39m\u001b[38;5;124m'\u001b[39m,\u001b[38;5;124m'\u001b[39m\u001b[38;5;124mRock\u001b[39m\u001b[38;5;124m'\u001b[39m])\n\u001b[0;32m     10\u001b[0m \u001b[38;5;66;03m# Function to get the winnning Part\u001b[39;00m\n",
      "\u001b[1;31mNameError\u001b[0m: name 'imput' is not defined"
     ]
    }
   ],
   "source": [
    "\"\"\" \n",
    "    Proble : Design a chess play for machine and APerson\n",
    "    Approach : Get the individual status and compare.\n",
    "    \n",
    "    annot  : Person - x - Person\n",
    "                        y - Machine\"\"\"\n",
    "x_status = input(\"Enter your status\")\n",
    "y_status = random(['Paper','Rock'])\n",
    "\n",
    "# Function to get the winnning Part\n",
    "def get_the_winner(x_status,y_status):\n",
    "    if (x_status =='Paper') &(y_status=='Rock'):\n",
    "        print('X Winns')\n",
    "    else :\n",
    "        print('y wins')\n",
    "# Function to kep the flow\n",
    "while True:\n",
    "    get_the_winner(x_status,y_status)\n",
    "        \n",
    "\n"
   ]
  },
  {
   "cell_type": "code",
   "execution_count": 1,
   "metadata": {},
   "outputs": [
    {
     "name": "stdout",
     "output_type": "stream",
     "text": [
      "Y Wins\n",
      "Y Wins\n"
     ]
    }
   ],
   "source": [
    "import random\n",
    "\n",
    "# Function to get the winner\n",
    "def get_the_winner(x_status, y_status):\n",
    "    if x_status == 'Paper' and y_status == 'Rock':\n",
    "        return 'X Wins'\n",
    "    else:\n",
    "        return 'Y Wins'\n",
    "\n",
    "# Main program\n",
    "while True:\n",
    "    x_status = input(\"Enter your status: \")\n",
    "    y_status = random.choice(['Paper', 'Rock'])\n",
    "    \n",
    "    result = get_the_winner(x_status, y_status)\n",
    "    print(result)\n",
    "\n"
   ]
  },
  {
   "cell_type": "code",
   "execution_count": null,
   "metadata": {},
   "outputs": [],
   "source": [
    "import random\n",
    "\n",
    "# Function to get the winner\n",
    "def get_the_winner(joseph, computer):\n",
    "    if joseph == 'Paper' and computer == 'Rock':\n",
    "        print(\"Joseph wins!\")\n",
    "        return 'Joseph'\n",
    "    elif joseph == \"Rock\" and computer == \"Paper\":\n",
    "        print(\"Computer wins!\")\n",
    "        return \"Computer\"\n",
    "    elif joseph == \"Rock\" and computer == \"Scissors\":\n",
    "        print(\"Joseph wins!\")\n",
    "        return \"Joseph\"\n",
    "    elif joseph == \"Scissors\" and computer == \"Paper\":\n",
    "        print(\"Computer wins!\")\n",
    "        return \"Computer\"\n",
    "    else:\n",
    "        print(\"It's a tie! Try again.\")\n",
    "\n",
    "# Main program\n",
    "choices = [\"Rock\", \"Paper\", \"Scissors\"]\n",
    "while True:\n",
    "    joseph = input(\"\\nChoose Rock, Paper, or Scissors: \")\n",
    "    computer = random.choice(choices)\n",
    "    \n",
    "    result = get_the_winner(joseph, computer)\n",
    "    print(\"Winner: \", result)\n"
   ]
  }
 ],
 "metadata": {
  "kernelspec": {
   "display_name": "Python 3",
   "language": "python",
   "name": "python3"
  },
  "language_info": {
   "codemirror_mode": {
    "name": "ipython",
    "version": 3
   },
   "file_extension": ".py",
   "mimetype": "text/x-python",
   "name": "python",
   "nbconvert_exporter": "python",
   "pygments_lexer": "ipython3",
   "version": "3.12.1"
  }
 },
 "nbformat": 4,
 "nbformat_minor": 2
}
